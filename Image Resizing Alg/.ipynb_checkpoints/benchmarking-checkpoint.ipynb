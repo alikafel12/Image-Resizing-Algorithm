{
 "cells": [
  {
   "cell_type": "markdown",
   "metadata": {},
   "source": [
    "# Benchmarking\n",
    "This benchmarking analysis compares implementations of sorting algorithms in Python\n",
    "\n",
    "## Import the packages we need"
   ]
  },
  {
   "cell_type": "code",
   "execution_count": 13,
   "metadata": {},
   "outputs": [],
   "source": [
    "#import matplotlib\n",
    "#import matplotlib.pyplot as plt\n",
    "import random\n",
    "import cProfile\n",
    "import pstats\n",
    "import time\n",
    "#from ggplot import *\n",
    "import pandas as pd\n",
    "import numpy as np\n",
    "#import seaborn as sns\n",
    "#%matplotlib inline"
   ]
  },
  {
   "cell_type": "markdown",
   "metadata": {},
   "source": [
    "Define selection sort. Briefly, for a list of $n$ numbers, selection sort is an $O(n)$ algorithm that iteratively finds the smallest element and places it in a sorted array."
   ]
  },
  {
   "cell_type": "code",
   "execution_count": null,
   "metadata": {},
   "outputs": [],
   "source": [
    "def sel_sort(num_list):\n",
    "    for i in range(len(num_list)):\n",
    "        min_i = i\n",
    "        for j in range( i+1, len(num_list)):\n",
    "            if num_list[min_i] > num_list[j]:\n",
    "                min_i = j\n",
    "        # place min\n",
    "        num_list[i], num_list[min_i] = num_list[min_i], num_list[i]\n",
    "    return num_list"
   ]
  },
  {
   "cell_type": "markdown",
   "metadata": {},
   "source": [
    "Define merge sort. Briefly, for a list of $n$ numbers, merge sort is an $O(n \\log(n))$ algorithm that recursively breaks down the sorting problem until all subproblems are of size 1, then merges the sorted arrays."
   ]
  },
  {
   "cell_type": "code",
   "execution_count": null,
   "metadata": {},
   "outputs": [],
   "source": [
    "def merge_sort(unsorted):\n",
    "    \n",
    "    if len(unsorted) <= 1:\n",
    "        return unsorted\n",
    "\n",
    "    mid = len(unsorted) // 2\n",
    "    left = unsorted[:mid]\n",
    "    right = unsorted[mid:]\n",
    "    \n",
    "    left = merge_sort(left)\n",
    "    right = merge_sort(right)\n",
    "    \n",
    "    return list(merge(left, right))\n",
    "\n",
    "def merge(left,right):\n",
    "    sorted_list = []\n",
    "    while len(left) != 0 and len(right) != 0:\n",
    "        if left[0] < right[0]:\n",
    "            sorted_list.append(left[0])\n",
    "            left.remove(left[0])\n",
    "        else:\n",
    "            sorted_list.append(right[0])\n",
    "            right.remove(right[0])\n",
    "    if len(left) == 0:\n",
    "        sorted_list = sorted_list + right\n",
    "    else:\n",
    "        sorted_list = sorted_list + left\n",
    "    return sorted_list\n",
    "\n"
   ]
  },
  {
   "cell_type": "code",
   "execution_count": 14,
   "metadata": {},
   "outputs": [
    {
     "name": "stdout",
     "output_type": "stream",
     "text": [
      "[34, 97, 84, 44, 86, 77, 33, 1, 10, 51]\n",
      "[1, 10, 33, 34, 44, 51, 77, 84, 86, 97]\n",
      "[1, 10, 33, 34, 44, 51, 77, 84, 86, 97]\n",
      "[1, 10, 33, 34, 44, 51, 77, 84, 86, 97]\n"
     ]
    }
   ],
   "source": [
    "l = random.sample(xrange(100), 10)\n",
    "print(l)\n",
    "print(sel_sort(list(l)))\n",
    "print(merge_sort(list(l)))\n",
    "print(sorted(list(l)))"
   ]
  },
  {
   "cell_type": "code",
   "execution_count": 15,
   "metadata": {},
   "outputs": [
    {
     "name": "stdout",
     "output_type": "stream",
     "text": [
      "Mon Feb 11 13:30:37 2019    selstats\n",
      "\n",
      "         2005 function calls in 0.060 seconds\n",
      "\n",
      "   Ordered by: standard name\n",
      "\n",
      "   ncalls  tottime  percall  cumtime  percall filename:lineno(function)\n",
      "        1    0.054    0.054    0.060    0.060 <ipython-input-7-eb6fbbf80006>:1(sel_sort)\n",
      "        1    0.000    0.000    0.060    0.060 <string>:1(<module>)\n",
      "     1001    0.000    0.000    0.000    0.000 {len}\n",
      "        1    0.000    0.000    0.000    0.000 {method 'disable' of '_lsprof.Profiler' objects}\n",
      "     1001    0.006    0.000    0.006    0.000 {range}\n",
      "\n",
      "\n",
      "Mon Feb 11 13:30:37 2019    mergestats\n",
      "\n",
      "         43369 function calls (41371 primitive calls) in 0.020 seconds\n",
      "\n",
      "   Ordered by: standard name\n",
      "\n",
      "   ncalls  tottime  percall  cumtime  percall filename:lineno(function)\n",
      "   1999/1    0.003    0.000    0.019    0.019 <ipython-input-8-5f4922be99fd>:1(merge_sort)\n",
      "      999    0.011    0.000    0.016    0.000 <ipython-input-8-5f4922be99fd>:15(merge)\n",
      "        1    0.000    0.000    0.020    0.020 <string>:1(<module>)\n",
      "    22913    0.002    0.000    0.002    0.000 {len}\n",
      "     8728    0.001    0.000    0.001    0.000 {method 'append' of 'list' objects}\n",
      "        1    0.000    0.000    0.000    0.000 {method 'disable' of '_lsprof.Profiler' objects}\n",
      "     8728    0.002    0.000    0.002    0.000 {method 'remove' of 'list' objects}\n",
      "\n",
      "\n",
      "Mon Feb 11 13:30:37 2019    sortedstats\n",
      "\n",
      "         3 function calls in 0.001 seconds\n",
      "\n",
      "   Ordered by: standard name\n",
      "\n",
      "   ncalls  tottime  percall  cumtime  percall filename:lineno(function)\n",
      "        1    0.000    0.000    0.001    0.001 <string>:1(<module>)\n",
      "        1    0.000    0.000    0.000    0.000 {method 'disable' of '_lsprof.Profiler' objects}\n",
      "        1    0.000    0.000    0.000    0.000 {sorted}\n",
      "\n",
      "\n"
     ]
    },
    {
     "data": {
      "text/plain": [
       "<pstats.Stats instance at 0x0000000006B5B688>"
      ]
     },
     "execution_count": 15,
     "metadata": {},
     "output_type": "execute_result"
    }
   ],
   "source": [
    "n=1000\n",
    "l = random.sample(xrange(n), n)\n",
    "cProfile.run(\"sel_sort(list(l))\", 'selstats')\n",
    "cProfile.run(\"merge_sort(list(l))\", 'mergestats')\n",
    "cProfile.run(\"sorted(list(l))\", 'sortedstats')\n",
    "\n",
    "p = pstats.Stats('selstats')\n",
    "p.strip_dirs().sort_stats(-1).print_stats()\n",
    "p = pstats.Stats('mergestats')\n",
    "p.strip_dirs().sort_stats(-1).print_stats()\n",
    "p = pstats.Stats('sortedstats')\n",
    "p.strip_dirs().sort_stats(-1).print_stats()"
   ]
  },
  {
   "cell_type": "code",
   "execution_count": null,
   "metadata": {},
   "outputs": [],
   "source": [
    "num_iters=100\n",
    "n=1000\n",
    "l = random.sample(xrange(n), n)\n",
    "\n",
    "runtimes = pd.DataFrame(index=np.arange(3*num_iters), columns=['algorithm','runtime'])\n",
    "for i in range(num_iters):\n",
    "    t0 = time.time()\n",
    "    sel_sort(list(l))\n",
    "    t1 = time.time()\n",
    "    runtimes.iloc[i]['runtime']=t1-t0\n",
    "    runtimes.iloc[i]['algorithm']='selection'\n",
    "    t0 = time.time()\n",
    "    merge_sort(list(l))\n",
    "    t1 = time.time()\n",
    "    runtimes.iloc[num_iters+i]['runtime']=t1-t0\n",
    "    runtimes.iloc[num_iters+i]['algorithm']='merge'\n",
    "    t0 = time.time()\n",
    "    sorted(list(l))\n",
    "    t1 = time.time()\n",
    "    runtimes.iloc[2*num_iters+i]['runtime']=t1-t0\n",
    "    runtimes.iloc[2*num_iters+i]['algorithm']='timsort'\n",
    "\n",
    "runtimes['runtime'] = runtimes['runtime'].astype(float)\n"
   ]
  },
  {
   "cell_type": "code",
   "execution_count": null,
   "metadata": {},
   "outputs": [],
   "source": [
    "# GGPLOT\n",
    "p = ggplot(runtimes, aes(x='algorithm', y='runtime')) + geom_boxplot()\n",
    "print(p)\n"
   ]
  },
  {
   "cell_type": "code",
   "execution_count": null,
   "metadata": {},
   "outputs": [],
   "source": [
    "# pandas\n",
    "boxplot = runtimes.boxplot(by='algorithm', column=['runtime'], grid=False)\n",
    "print(boxplot)\n"
   ]
  },
  {
   "cell_type": "code",
   "execution_count": null,
   "metadata": {},
   "outputs": [],
   "source": [
    "# seaborn\n",
    "sns.boxplot(y='runtime', x='algorithm',data=runtimes,width=0.5,palette=\"colorblind\")\n"
   ]
  },
  {
   "cell_type": "code",
   "execution_count": null,
   "metadata": {},
   "outputs": [],
   "source": []
  }
 ],
 "metadata": {
  "kernelspec": {
   "display_name": "Python 3",
   "language": "python",
   "name": "python3"
  },
  "language_info": {
   "codemirror_mode": {
    "name": "ipython",
    "version": 3
   },
   "file_extension": ".py",
   "mimetype": "text/x-python",
   "name": "python",
   "nbconvert_exporter": "python",
   "pygments_lexer": "ipython3",
   "version": "3.7.0"
  }
 },
 "nbformat": 4,
 "nbformat_minor": 2
}
